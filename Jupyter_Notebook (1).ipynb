{
  "metadata": {
    "kernelspec": {
      "name": "python",
      "display_name": "Pyolite",
      "language": "python"
    },
    "language_info": {
      "codemirror_mode": {
        "name": "python",
        "version": 3
      },
      "file_extension": ".py",
      "mimetype": "text/x-python",
      "name": "python",
      "nbconvert_exporter": "python",
      "pygments_lexer": "ipython3",
      "version": "3.8"
    }
  },
  "nbformat_minor": 4,
  "nbformat": 4,
  "cells": [
    {
      "cell_type": "markdown",
      "source": "<center>\n    <img src=\"https://s3-api.us-geo.objectstorage.softlayer.net/cf-courses-data/CognitiveClass/Logos/organization_logo/organization_logo.png\" width=\"300\" alt=\"cognitiveclass.ai logo\"  />\n</center>\n",
      "metadata": {}
    },
    {
      "cell_type": "markdown",
      "source": "#### Add your code below following the instructions given in the course\n",
      "metadata": {}
    },
    {
      "cell_type": "markdown",
      "source": "<h1>\nMy Jupyter Notebook on IBM Watson Studio\n</h1>",
      "metadata": {}
    },
    {
      "cell_type": "markdown",
      "source": "<b>Alongkorn</b><br>\nData Scientist",
      "metadata": {}
    },
    {
      "cell_type": "markdown",
      "source": "<i>I am interested in data science because I love coding and math</i>",
      "metadata": {}
    },
    {
      "cell_type": "markdown",
      "source": "<h3>two plus two equals four</h3>",
      "metadata": {}
    },
    {
      "cell_type": "code",
      "source": "2+2",
      "metadata": {
        "trusted": true
      },
      "execution_count": 4,
      "outputs": [
        {
          "execution_count": 4,
          "output_type": "execute_result",
          "data": {
            "text/plain": "4"
          },
          "metadata": {}
        }
      ]
    },
    {
      "cell_type": "markdown",
      "source": "<hr>\n<ul>\n    <li>Python</li>\n    <li>SQL</li>\n</ul>\n<ol>\n    <li>Machine learning</li>\n    <li>Artificial intelligent</li>\n</ol>\n<table>\n    <tr>\n        <th>Python</th>\n        <th>R</th>\n    </tr>\n    <tr>\n        <td>Pandas</td>\n        <td>ggplot</td>\n    </tr>\n</table>\n<a href=\"https://docs.python.org/3/\">Link to Python documentation</a>\n    \n<img src=\"https://i.pinimg.com/736x/4d/13/d5/4d13d55d6d0b38b7a4e85fcf97ff6279.jpg\" />\n    \n<p>Learn <mark>Jupyter</mark> today.</p>\n<blockquote cite=\"https://docs.python.org/3/\">Welcome! This is the official documentation for Python 3.10.7.</blockquote>\n<p><s>Course 2</s>",
      "metadata": {}
    },
    {
      "cell_type": "code",
      "source": "",
      "metadata": {},
      "execution_count": null,
      "outputs": []
    }
  ]
}